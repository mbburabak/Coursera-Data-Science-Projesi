{
 "cells": [
  {
   "cell_type": "code",
   "execution_count": 8,
   "metadata": {},
   "outputs": [],
   "source": [
    "import pandas as pd\n",
    "import numpy as np\n",
    "from bs4 import BeautifulSoup\n",
    "import requests"
   ]
  },
  {
   "cell_type": "code",
   "execution_count": 10,
   "metadata": {},
   "outputs": [],
   "source": [
    "wikipedia_link='https://en.wikipedia.org/wiki/List_of_postal_codes_of_Canada:_M'\n",
    "raw_wikipedia_page= requests.get(wikipedia_link).text\n",
    "soup = BeautifulSoup(raw_wikipedia_page,'xml')"
   ]
  },
  {
   "cell_type": "markdown",
   "metadata": {},
   "source": [
    "### Processing-part-1: extracting raw table (from webpage)"
   ]
  },
  {
   "cell_type": "code",
   "execution_count": 13,
   "metadata": {},
   "outputs": [],
   "source": [
    "table = soup.find('table')\n",
    "Postcode      = []\n",
    "Borough       = []\n",
    "Neighbourhood = []\n",
    "\n",
    "for tr_cell in table.find_all('tr'):\n",
    "    \n",
    "    counter = 1\n",
    "    Postcode_var      = -1\n",
    "    Borough_var       = -1\n",
    "    Neighbourhood_var = -1\n",
    "    \n",
    "    for td_cell in tr_cell.find_all('td'):\n",
    "        if counter == 1: \n",
    "            Postcode_var = td_cell.text\n",
    "        if counter == 2: \n",
    "            Borough_var = td_cell.text\n",
    "            tag_a_Borough = td_cell.find('a')\n",
    "            \n",
    "        if counter == 3: \n",
    "            Neighbourhood_var = str(td_cell.text).strip()\n",
    "            tag_a_Neighbourhood = td_cell.find('a')\n",
    "            \n",
    "        counter +=1\n",
    "        \n",
    "        if (Postcode_var == 'Not assigned' or Borough_var == 'Not assigned' or Neighbourhood_var == 'Not assigned'):\n",
    "            \n",
    "            continue\n",
    "            \n",
    "           \n",
    "    try:\n",
    "        if ((tag_a_Borough is None) or (tag_a_Neighbourhood is None)):\n",
    "            \n",
    "            continue\n",
    "            \n",
    "            \n",
    "    except:\n",
    "        \n",
    "        pass\n",
    "    \n",
    "    if(Postcode_var == -1 or Borough_var == -1 or Neighbourhood_var == -1):\n",
    "        \n",
    "        continue\n",
    "        \n",
    "     \n",
    "    Postcode.append(Postcode_var)\n",
    "    Borough.append(Borough_var)\n",
    "    Neighbourhood.append(Neighbourhood_var)"
   ]
  },
  {
   "cell_type": "markdown",
   "metadata": {},
   "source": [
    "### Processing-part-2: integrating Postal codes with more than 1 neighbour"
   ]
  },
  {
   "cell_type": "code",
   "execution_count": 14,
   "metadata": {},
   "outputs": [
    {
     "name": "stdout",
     "output_type": "stream",
     "text": [
      "num of unique Postal codes: 77\n"
     ]
    }
   ],
   "source": [
    "unique_p = set(Postcode)\n",
    "print('num of unique Postal codes:', len(unique_p))\n",
    "Postcode_u      = []\n",
    "Borough_u       = []\n",
    "Neighbourhood_u = []\n",
    "\n",
    "\n",
    "for postcode_unique_element in unique_p:\n",
    "    p_var = ''; b_var = ''; n_var = ''; \n",
    "    for postcode_idx, postcode_element in enumerate(Postcode):\n",
    "        if postcode_unique_element == postcode_element:\n",
    "            p_var = postcode_element;\n",
    "            b_var = Borough[postcode_idx]\n",
    "            if n_var == '': \n",
    "                n_var = Neighbourhood[postcode_idx]\n",
    "            else:\n",
    "                n_var = n_var + ', ' + Neighbourhood[postcode_idx]\n",
    "    Postcode_u.append(p_var)\n",
    "    Borough_u.append(b_var)\n",
    "    Neighbourhood_u.append(n_var)"
   ]
  },
  {
   "cell_type": "markdown",
   "metadata": {},
   "source": [
    "### Post-processing: creating an appropriate Pandas Dataframe"
   ]
  },
  {
   "cell_type": "code",
   "execution_count": 15,
   "metadata": {},
   "outputs": [
    {
     "data": {
      "text/html": [
       "<div>\n",
       "<style scoped>\n",
       "    .dataframe tbody tr th:only-of-type {\n",
       "        vertical-align: middle;\n",
       "    }\n",
       "\n",
       "    .dataframe tbody tr th {\n",
       "        vertical-align: top;\n",
       "    }\n",
       "\n",
       "    .dataframe thead th {\n",
       "        text-align: right;\n",
       "    }\n",
       "</style>\n",
       "<table border=\"1\" class=\"dataframe\">\n",
       "  <thead>\n",
       "    <tr style=\"text-align: right;\">\n",
       "      <th></th>\n",
       "      <th>Postcode</th>\n",
       "      <th>Borough</th>\n",
       "      <th>Neighbourhood</th>\n",
       "    </tr>\n",
       "  </thead>\n",
       "  <tbody>\n",
       "    <tr>\n",
       "      <td>0</td>\n",
       "      <td>M2R</td>\n",
       "      <td>North York</td>\n",
       "      <td>Willowdale West</td>\n",
       "    </tr>\n",
       "    <tr>\n",
       "      <td>1</td>\n",
       "      <td>M8W</td>\n",
       "      <td>Etobicoke</td>\n",
       "      <td>Alderwood, Long Branch</td>\n",
       "    </tr>\n",
       "    <tr>\n",
       "      <td>2</td>\n",
       "      <td>M4A</td>\n",
       "      <td>North York</td>\n",
       "      <td>Victoria Village</td>\n",
       "    </tr>\n",
       "    <tr>\n",
       "      <td>3</td>\n",
       "      <td>M5M</td>\n",
       "      <td>North York</td>\n",
       "      <td>Bedford Park</td>\n",
       "    </tr>\n",
       "    <tr>\n",
       "      <td>4</td>\n",
       "      <td>M2K</td>\n",
       "      <td>North York</td>\n",
       "      <td>Bayview Village</td>\n",
       "    </tr>\n",
       "    <tr>\n",
       "      <td>5</td>\n",
       "      <td>M1V</td>\n",
       "      <td>Scarborough</td>\n",
       "      <td>Agincourt North, Milliken</td>\n",
       "    </tr>\n",
       "    <tr>\n",
       "      <td>6</td>\n",
       "      <td>M4T</td>\n",
       "      <td>Central Toronto</td>\n",
       "      <td>Moore Park</td>\n",
       "    </tr>\n",
       "    <tr>\n",
       "      <td>7</td>\n",
       "      <td>M1N</td>\n",
       "      <td>Scarborough</td>\n",
       "      <td>Birch Cliff</td>\n",
       "    </tr>\n",
       "    <tr>\n",
       "      <td>8</td>\n",
       "      <td>M5V</td>\n",
       "      <td>Downtown Toronto</td>\n",
       "      <td>CN Tower, King and Spadina, Railway Lands, Sou...</td>\n",
       "    </tr>\n",
       "    <tr>\n",
       "      <td>9</td>\n",
       "      <td>M9C</td>\n",
       "      <td>Etobicoke</td>\n",
       "      <td>Markland Wood</td>\n",
       "    </tr>\n",
       "    <tr>\n",
       "      <td>10</td>\n",
       "      <td>M9L</td>\n",
       "      <td>North York</td>\n",
       "      <td>Humber Summit</td>\n",
       "    </tr>\n",
       "    <tr>\n",
       "      <td>11</td>\n",
       "      <td>M6J</td>\n",
       "      <td>West Toronto</td>\n",
       "      <td>Little Portugal, Trinity</td>\n",
       "    </tr>\n",
       "    <tr>\n",
       "      <td>12</td>\n",
       "      <td>M2J</td>\n",
       "      <td>North York</td>\n",
       "      <td>Henry Farm</td>\n",
       "    </tr>\n",
       "    <tr>\n",
       "      <td>13</td>\n",
       "      <td>M5A</td>\n",
       "      <td>Downtown Toronto</td>\n",
       "      <td>Harbourfront</td>\n",
       "    </tr>\n",
       "  </tbody>\n",
       "</table>\n",
       "</div>"
      ],
      "text/plain": [
       "   Postcode           Borough  \\\n",
       "0       M2R        North York   \n",
       "1       M8W         Etobicoke   \n",
       "2       M4A        North York   \n",
       "3       M5M        North York   \n",
       "4       M2K        North York   \n",
       "5       M1V       Scarborough   \n",
       "6       M4T   Central Toronto   \n",
       "7       M1N       Scarborough   \n",
       "8       M5V  Downtown Toronto   \n",
       "9       M9C         Etobicoke   \n",
       "10      M9L        North York   \n",
       "11      M6J      West Toronto   \n",
       "12      M2J        North York   \n",
       "13      M5A  Downtown Toronto   \n",
       "\n",
       "                                        Neighbourhood  \n",
       "0                                     Willowdale West  \n",
       "1                              Alderwood, Long Branch  \n",
       "2                                    Victoria Village  \n",
       "3                                        Bedford Park  \n",
       "4                                     Bayview Village  \n",
       "5                           Agincourt North, Milliken  \n",
       "6                                          Moore Park  \n",
       "7                                         Birch Cliff  \n",
       "8   CN Tower, King and Spadina, Railway Lands, Sou...  \n",
       "9                                       Markland Wood  \n",
       "10                                      Humber Summit  \n",
       "11                           Little Portugal, Trinity  \n",
       "12                                         Henry Farm  \n",
       "13                                       Harbourfront  "
      ]
     },
     "execution_count": 15,
     "metadata": {},
     "output_type": "execute_result"
    }
   ],
   "source": [
    "toronto_dict = {'Postcode':Postcode_u, 'Borough':Borough_u, 'Neighbourhood':Neighbourhood_u}\n",
    "df_toronto = pd.DataFrame.from_dict(toronto_dict)\n",
    "df_toronto.to_csv('toronto_part1.csv')\n",
    "df_toronto.head(14)"
   ]
  },
  {
   "cell_type": "code",
   "execution_count": 16,
   "metadata": {},
   "outputs": [
    {
     "data": {
      "text/plain": [
       "(77, 3)"
      ]
     },
     "execution_count": 16,
     "metadata": {},
     "output_type": "execute_result"
    }
   ],
   "source": [
    "df_toronto.shape"
   ]
  },
  {
   "cell_type": "code",
   "execution_count": null,
   "metadata": {},
   "outputs": [],
   "source": []
  }
 ],
 "metadata": {
  "kernelspec": {
   "display_name": "Python 3",
   "language": "python",
   "name": "python3"
  },
  "language_info": {
   "codemirror_mode": {
    "name": "ipython",
    "version": 3
   },
   "file_extension": ".py",
   "mimetype": "text/x-python",
   "name": "python",
   "nbconvert_exporter": "python",
   "pygments_lexer": "ipython3",
   "version": "3.7.4"
  }
 },
 "nbformat": 4,
 "nbformat_minor": 4
}
